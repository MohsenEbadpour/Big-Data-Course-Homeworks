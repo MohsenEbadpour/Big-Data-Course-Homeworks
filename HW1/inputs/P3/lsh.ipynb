{
 "cells": [
  {
   "cell_type": "markdown",
   "metadata": {
    "pycharm": {
     "name": "#%% md\n"
    }
   },
   "source": [
    "Load your Dataset"
   ]
  },
  {
   "cell_type": "code",
   "execution_count": null,
   "metadata": {
    "id": "BUxz2adjFtpt",
    "pycharm": {
     "name": "#%%\n"
    }
   },
   "outputs": [],
   "source": [
    "documents = open(\"dataset.txt\").readlines()"
   ]
  },
  {
   "cell_type": "code",
   "execution_count": null,
   "metadata": {
    "pycharm": {
     "name": "#%%\n"
    }
   },
   "outputs": [],
   "source": [
    "documents = [x[:-1] for x in documents]\n",
    "documents"
   ]
  },
  {
   "cell_type": "code",
   "execution_count": null,
   "metadata": {
    "pycharm": {
     "name": "#%%\n"
    }
   },
   "outputs": [],
   "source": [
    "num_minhash = 20\n",
    "band_size = 10\n",
    "K = 5"
   ]
  },
  {
   "cell_type": "markdown",
   "metadata": {
    "pycharm": {
     "name": "#%% md\n"
    }
   },
   "source": [
    "shingled example of \"university of AmirKabir\" with K = 2"
   ]
  },
  {
   "cell_type": "markdown",
   "metadata": {
    "pycharm": {
     "name": "#%% md\n"
    }
   },
   "source": [
    "un, ni, iv, ve, er, rs, si, it, ty, y , o, of, f , A, Am, mi, ir, rK, Ka, ab, bi, ir"
   ]
  },
  {
   "cell_type": "code",
   "execution_count": null,
   "metadata": {
    "id": "SCDSuqxDFtpw",
    "pycharm": {
     "name": "#%%\n"
    }
   },
   "outputs": [],
   "source": [
    "def create_shingle(docs: str, k: int):\n",
    "    \"\"\"\n",
    "    :param docs: Entire documents list\n",
    "    :param k: Shingle size\n",
    "    :return: A set of k-shingles\n",
    "    \"\"\"\n",
    "    shingle_set = []\n",
    "    #TODO-Task1: start your code\n",
    "\n",
    "    #end your code\n",
    "    return shingle_set"
   ]
  },
  {
   "cell_type": "code",
   "execution_count": null,
   "metadata": {
    "pycharm": {
     "name": "#%%\n"
    }
   },
   "outputs": [],
   "source": [
    "documents_shingles = create_shingle(documents, k=K)\n",
    "print(documents_shingles[2])"
   ]
  },
  {
   "cell_type": "markdown",
   "metadata": {
    "pycharm": {
     "name": "#%% md\n"
    }
   },
   "source": [
    "dont change this part just run it"
   ]
  },
  {
   "cell_type": "code",
   "execution_count": null,
   "metadata": {
    "pycharm": {
     "name": "#%%\n"
    }
   },
   "outputs": [],
   "source": [
    "res1 = {'of Am', ' of A', 'ty of', 'f Ami', 'irKab', ' Amir', 'unive', 'mirKa', 'y of ', 'ivers', 'rsity', 'sity ',\n",
    "        'versi', 'ersit', 'ity o', 'rKabi', 'niver', 'Kabir', 'AmirK'}\n",
    "assert res1 == documents_shingles[0], \"Test 1 Failed!\"\n",
    "print(\"Test 1 Successful!\")"
   ]
  },
  {
   "cell_type": "markdown",
   "metadata": {
    "id": "W6_n4b6KFtpx",
    "pycharm": {
     "name": "#%% md\n"
    }
   },
   "source": [
    "Now that we have our three shingles we create a shingle vocabulary by create a `union` between all three sets."
   ]
  },
  {
   "cell_type": "code",
   "execution_count": null,
   "metadata": {
    "id": "OdFH_oC0Ftpy",
    "outputId": "fd90b1cc-dcd1-4a8b-bc50-361cce38f635",
    "pycharm": {
     "name": "#%%\n"
    }
   },
   "outputs": [],
   "source": [
    "vocab = set()\n",
    "for shingle in documents_shingles:\n",
    "    vocab.update(shingle)\n",
    "\n",
    "print(vocab)"
   ]
  },
  {
   "cell_type": "code",
   "execution_count": null,
   "metadata": {
    "pycharm": {
     "name": "#%%\n"
    }
   },
   "outputs": [],
   "source": [
    "def create_sparse_vectors(documents_shingles, vocab):\n",
    "    \"\"\"\n",
    "\n",
    "    :param documents_list:\n",
    "    :param vocab: Union of all shingles sets (type: List)\n",
    "    :return: sparse vector matrix: on-hot ecoded of all sentences\n",
    "    desired result for two sentences could be:\n",
    "    [\n",
    "     [0, 0, 1, 1, 0, 0, 1, 0, 1, 0, 0, 0, 1, 1, 1, 0, 1, 0, 1, 0, 0, 0, 0, 0, 0, 0],\n",
    "     [0, 1, 0, 1, 0, 1, 0, 0, 0, 0, 1, 1, 1, 0, 0, 0, 1, 0, 1, 0, 0, 0, 0, 1, 0, 0]\n",
    "    ]\n",
    "    \"\"\"\n",
    "    sparse_vector_matrix = []\n",
    "    #TODO-Task2: start your code\n",
    "\n",
    "    #end your code\n",
    "    return sparse_vector_matrix"
   ]
  },
  {
   "cell_type": "code",
   "execution_count": null,
   "metadata": {
    "pycharm": {
     "name": "#%%\n"
    }
   },
   "outputs": [],
   "source": [
    "input_matrix = create_sparse_vectors(documents_shingles, vocab)\n",
    "input_matrix"
   ]
  },
  {
   "cell_type": "markdown",
   "metadata": {
    "id": "d_En8YoMFtpz",
    "pycharm": {
     "name": "#%% md\n"
    }
   },
   "source": [
    "So we now have one-hot encoded sparse vectors we can move onto *minhashing*.\n",
    "\n",
    "## Minhashing"
   ]
  },
  {
   "cell_type": "code",
   "execution_count": null,
   "metadata": {
    "pycharm": {
     "name": "#%%\n"
    }
   },
   "outputs": [],
   "source": [
    "def create_hash_fucntion(size: int):\n",
    "    \"\"\"\n",
    "    Build a Permutation p (hash function) with mentioned size\n",
    "\n",
    "    :param size: Length of hash function\n",
    "    :return: A list of hash of length size\n",
    "    desired result could be:\n",
    "    [\n",
    "     [5,8,4,1,2,...,78]\n",
    "    ]\n",
    "    \"\"\"\n",
    "    hash_func = []\n",
    "    #TODO-Task3: start your code\n",
    "\n",
    "    #end your code\n",
    "\n",
    "    return hash_func"
   ]
  },
  {
   "cell_type": "code",
   "execution_count": null,
   "metadata": {
    "pycharm": {
     "name": "#%%\n"
    }
   },
   "outputs": [],
   "source": [
    "def create_minhash_functions(num_minhash: int, vocab_size: int):\n",
    "    \"\"\"\n",
    "\n",
    "    :param num_minhash:\n",
    "    :param vocab_size:\n",
    "    :return: list of minhash functions\n",
    "    \"\"\"\n",
    "    minhashes = []\n",
    "    for i in range(num_minhash):\n",
    "        minhashes.append(create_hash_fucntion(vocab_size))\n",
    "\n",
    "    return minhashes"
   ]
  },
  {
   "cell_type": "code",
   "execution_count": null,
   "metadata": {
    "pycharm": {
     "name": "#%%\n"
    }
   },
   "outputs": [],
   "source": [
    "min_hashes = create_minhash_functions(num_minhash, len(vocab))\n",
    "min_hashes"
   ]
  },
  {
   "cell_type": "code",
   "execution_count": 1,
   "outputs": [
    {
     "data": {
      "image/png": "[encoded data removed]",
      "text/plain": "<IPython.core.display.Image object>"
     },
     "execution_count": 1,
     "metadata": {},
     "output_type": "execute_result"
    }
   ],
   "source": [
    "# don't run this cell.\n",
    "from IPython.display import Image\n",
    "Image(filename='lsh.png')"
   ],
   "metadata": {
    "collapsed": false,
    "pycharm": {
     "name": "#%%\n"
    }
   }
  },
  {
   "cell_type": "code",
   "execution_count": null,
   "metadata": {
    "id": "ddWrF48MFtp3",
    "pycharm": {
     "name": "#%%\n"
    }
   },
   "outputs": [],
   "source": [
    "def jaccard(a, b):\n",
    "    \"\"\"\n",
    "\n",
    "    :param a:\n",
    "    :param b:\n",
    "    :return: Number of common values in a and b\n",
    "    \"\"\"\n",
    "    a = set(a)\n",
    "    b = set(b)\n",
    "    result = 0\n",
    "    #TODO-Task5: start your code\n",
    "\n",
    "    #end your code\n",
    "    return result"
   ]
  },
  {
   "cell_type": "code",
   "execution_count": null,
   "metadata": {
    "pycharm": {
     "name": "#%%\n"
    }
   },
   "outputs": [],
   "source": [
    "t1 = {'a', 'b', 'c'}\n",
    "t2 = {'a', 'b', 'd'}\n",
    "assert jaccard(t1, t2) == 0.5, \"Task5 faild\"\n",
    "print(\"task5 successful\")"
   ]
  },
  {
   "cell_type": "code",
   "execution_count": null,
   "metadata": {
    "id": "ktlAtq2nFtp3",
    "outputId": "73890bae-8919-4d7d-ed32-1b1d417a4c6d",
    "pycharm": {
     "name": "#%%\n"
    }
   },
   "outputs": [],
   "source": [
    "jaccard(signature_matrix[2], signature_matrix[1])"
   ]
  },
  {
   "cell_type": "code",
   "execution_count": null,
   "metadata": {
    "id": "vWYtKjL_Ftp4",
    "pycharm": {
     "name": "#%%\n"
    }
   },
   "outputs": [],
   "source": [
    "def create_bands(signatures, band_size):\n",
    "    bands = []\n",
    "    for signature in signatures:\n",
    "        r = len(signature) // band_size\n",
    "\n",
    "        sub_bands = []\n",
    "        for i in range(0, len(signature), r):\n",
    "            sub_bands.append(signature[i: i + r])\n",
    "        bands.append(sub_bands)\n",
    "    return bands"
   ]
  },
  {
   "cell_type": "code",
   "execution_count": null,
   "metadata": {
    "pycharm": {
     "name": "#%%\n"
    }
   },
   "outputs": [],
   "source": [
    "bands = create_bands(signature_matrix, band_size)\n",
    "bands"
   ]
  },
  {
   "cell_type": "code",
   "execution_count": null,
   "metadata": {
    "pycharm": {
     "name": "#%%\n"
    }
   },
   "outputs": [],
   "source": [
    "def get_candidate_pairs(doc_index, bands):\n",
    "    candidateds_ids = []\n",
    "    for i in range(len(bands)):\n",
    "        if i == doc_index:\n",
    "            continue\n",
    "        current_band = bands[doc_index]\n",
    "        target_band = bands[i]\n",
    "        for current_row, target_row in zip(current_band, target_band):\n",
    "            if current_row == target_row:\n",
    "                candidateds_ids.append(i)\n",
    "                break\n",
    "\n",
    "    return candidateds_ids"
   ]
  },
  {
   "cell_type": "code",
   "execution_count": null,
   "metadata": {
    "pycharm": {
     "name": "#%%\n"
    }
   },
   "outputs": [],
   "source": [
    "target_id = 2"
   ]
  },
  {
   "cell_type": "code",
   "execution_count": null,
   "metadata": {
    "pycharm": {
     "name": "#%%\n"
    }
   },
   "outputs": [],
   "source": [
    "candidates = get_candidate_pairs(target_id, bands)\n",
    "candidates"
   ]
  },
  {
   "cell_type": "code",
   "execution_count": null,
   "metadata": {
    "pycharm": {
     "name": "#%%\n"
    }
   },
   "outputs": [],
   "source": [
    "print(\"Target sentence\")\n",
    "print(documents[target_id])"
   ]
  },
  {
   "cell_type": "code",
   "execution_count": null,
   "metadata": {
    "pycharm": {
     "name": "#%%\n"
    }
   },
   "outputs": [],
   "source": [
    "print(\"Candidate sentences\")\n",
    "for index in candidates:\n",
    "    print(documents[index])\n"
   ]
  },
  {
   "cell_type": "code",
   "execution_count": null,
   "metadata": {
    "pycharm": {
     "name": "#%%\n"
    }
   },
   "outputs": [],
   "source": [
    "def get_topk_similar(trget_id, candidates, k):\n",
    "    \"\"\"\n",
    "\n",
    "    :param trget_id:\n",
    "    :param candidates:\n",
    "    :return: k most similar sentences from candidates to target sentence\n",
    "    \"\"\"\n",
    "    result = []\n",
    "    #TODO-Task6: start your code\n",
    "\n",
    "    #end your code\n",
    "    return result"
   ]
  },
  {
   "cell_type": "code",
   "execution_count": null,
   "metadata": {
    "pycharm": {
     "name": "#%%\n"
    }
   },
   "outputs": [],
   "source": [
    "print('Similar sentences:')\n",
    "print(get_topk_similar(target_id, candidates, k=5))\n"
   ]
  }
 ],
 "metadata": {
  "colab": {
   "provenance": []
  },
  "kernelspec": {
   "display_name": "Python 3 (ipykernel)",
   "language": "python",
   "name": "python3"
  },
  "language_info": {
   "codemirror_mode": {
    "name": "ipython",
    "version": 3
   },
   "file_extension": ".py",
   "mimetype": "text/x-python",
   "name": "python",
   "nbconvert_exporter": "python",
   "pygments_lexer": "ipython3",
   "version": "3.10.8"
  },
  "vscode": {
   "interpreter": {
    "hash": "5fe10bf018ef3e697f9035d60bf60847932a12bface18908407fd371fe880db9"
   }
  }
 },
 "nbformat": 4,
 "nbformat_minor": 1
}