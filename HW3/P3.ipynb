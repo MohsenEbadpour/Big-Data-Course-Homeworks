{
  "cells": [
    {
      "cell_type": "code",
      "execution_count": null,
      "metadata": {
        "colab": {
          "base_uri": "https://localhost:8080/"
        },
        "id": "cvzqdlXN9ZXg",
        "outputId": "6921b464-6046-4e49-bc92-4392a6163917"
      },
      "outputs": [],
      "source": [
        "#from google.colab import drive\n",
        "#drive.mount('/content/drive')\n",
        "#! ls"
      ]
    },
    {
      "cell_type": "code",
      "execution_count": null,
      "metadata": {
        "id": "QhR8Qi2_9SZu"
      },
      "outputs": [],
      "source": [
        "import numpy as np\n",
        "import matplotlib.pyplot as plt\n",
        "import seaborn as sns\n",
        "from tqdm import tqdm\n",
        "import os\n",
        "import warnings\n",
        "#warnings.filterwarnings('ignore')\n",
        "from scipy.special import expit\n",
        "import decimal\n",
        "\n",
        "sns.set_style(\"whitegrid\")\n",
        "parent_path = \"./\"\n",
        "\n",
        "if not os.path.exists(parent_path+\"/Batch-Loss-Charts\"):\n",
        "    os.makedirs(parent_path+\"/Batch-Loss-Charts\")\n",
        "    \n",
        "save_path = parent_path + \"/Batch-Loss-Charts/Ite-{0}-Batch-{1}.png\"\n"
      ]
    },
    {
      "cell_type": "code",
      "execution_count": null,
      "metadata": {
        "id": "HPaR6xTl9SZw"
      },
      "outputs": [],
      "source": [
        "def read_data(path=\"./data.txt\"):\n",
        "    file = open(path, \"r\")\n",
        "    users = []\n",
        "    users_count = 0\n",
        "    \n",
        "    items = set([])\n",
        "    items_count = 0\n",
        "    \n",
        "    for line in tqdm(file.readlines()):\n",
        "        if line != \"\":\n",
        "            users_count += 1\n",
        "            line = list(line.split())\n",
        "            users.append(list(map(int,line[1:])))\n",
        "            items.update(set(users[-1]))\n",
        "            \n",
        "    items_count = len(items)\n",
        "    items = list(items)\n",
        "    items.sort()\n",
        "    R = np.zeros((items_count, users_count), dtype=np.float32)\n",
        "    print(\"Matrix R Creation\")\n",
        "    for user_index, user in tqdm(enumerate(users)):\n",
        "        for item in user:\n",
        "            R[item, user_index] = 1\n",
        "            \n",
        "    return R, items_count, users_count\n",
        "\n",
        "\n",
        "def train_test_split(R, test_size=0.2):\n",
        "    train = R.copy()\n",
        "    test_indexes = []\n",
        "    for user in tqdm(range(R.shape[1])):\n",
        "        test_ratings = np.random.choice(R[:, user].nonzero()[0], \n",
        "                                        size=int(len(R[:, user].nonzero()[0]) * test_size), \n",
        "                                        replace=False)\n",
        "        train[test_ratings, user] = 0\n",
        "        test_indexes.append(test_ratings)\n",
        "        \n",
        "    return train, test_indexes\n",
        "\n",
        "def get_batches(iterable, batch_size=2):\n",
        "    _len = len(iterable)\n",
        "    np.random.shuffle(iterable)\n",
        "    for ndx in range(0, _len, batch_size):\n",
        "        yield iterable[ndx:min(ndx + batch_size, _len)]\n",
        "\n",
        "def sum_squared_norms(q):\n",
        "    norms_squared = np.sum(np.linalg.norm(q, axis=1) ** 2)\n",
        "    return norms_squared\n",
        "\n",
        "    \n",
        "def learning_rate_scheduler(current_epoch, total_epochs, init_lr, last_lr):\n",
        "    if current_epoch >= total_epochs:\n",
        "        return last_lr\n",
        "    else:\n",
        "        decay = (init_lr - last_lr) / total_epochs\n",
        "        updated_lr = init_lr - (current_epoch * decay)\n",
        "        return updated_lr"
      ]
    },
    {
      "cell_type": "code",
      "execution_count": null,
      "metadata": {
        "colab": {
          "base_uri": "https://localhost:8080/"
        },
        "id": "u14-GkcVAeQ8",
        "outputId": "cc24cafc-44e4-452b-aa2b-cdbd72a63bd6"
      },
      "outputs": [],
      "source": [
        "print(\"Loading data...\")\n",
        "R, num_items, num_users = read_data()\n",
        "print(\"Loading data completed.\")\n",
        "\n",
        "print(\"Splitting data...\")  \n",
        "R_train, test_indexes = train_test_split(R)\n",
        "print(\"Splitting data completed.\")  "
      ]
    },
    {
      "cell_type": "code",
      "execution_count": 38,
      "metadata": {
        "id": "R9FBabTa9SZx"
      },
      "outputs": [],
      "source": [
        "class MatrixFactorization:\n",
        "    def __init__(self, num_items, num_users, num_factors, learning_rate, regularization_rate, num_iterations):\n",
        "        \"\"\"\n",
        "        Initialize the Matrix Factorization model.\n",
        "\n",
        "        Args:\n",
        "            num_items (int): Number of items.\n",
        "            num_users (int): Number of users.\n",
        "            num_factors (int): Number of latent factors.\n",
        "            learning_rate (float): Learning rate for gradient descent.\n",
        "            regularization_rate (float): Regularization rate for L2 regularization.\n",
        "            num_iterations (int): Number of iterations for training.\n",
        "        \"\"\"\n",
        "        self.num_items = num_items\n",
        "        self.num_users = num_users\n",
        "        self.num_factors = num_factors\n",
        "        self.learning_rate = learning_rate\n",
        "        self.regularization_rate = regularization_rate\n",
        "        self.num_iterations = num_iterations\n",
        "\n",
        "        # Initialize Q and P matrices with random values\n",
        "        # Start your code\n",
        "        q_size = self.num_items * self.num_factors\n",
        "        p_size = self.num_users * self.num_factors\n",
        "        self.Q = np.random.normal([0],[.1],q_size).reshape(self.num_items, self.num_factors).astype(np.longfloat)\n",
        "        self.P = np.random.normal([0],[.1],p_size).reshape(self.num_users, self.num_factors).astype(np.longfloat)\n",
        "        # End your code\n",
        "\n",
        "    def sigmoid(self, x):\n",
        "        \"\"\"\n",
        "        Compute the sigmoid function.\n",
        "\n",
        "        Args:\n",
        "            x (float): Input value.\n",
        "\n",
        "        Returns:\n",
        "            float: Sigmoid value.\n",
        "        \"\"\"\n",
        "        #cc = [x]\n",
        "        #x = np.asarray([decimal.Decimal(el) for el in cc], dtype=object)\n",
        "        #return np.array((1 / (1 + np.exp(-x)))).astype(np.longfloat) [0]\n",
        "        return 1 / (1 + np.exp(-x))\n",
        "\n",
        "    def update_parameters(self, R):\n",
        "        \"\"\"\n",
        "        Update the parameters Q and P using Stochastic Gradient Descent.\n",
        "\n",
        "        Args:\n",
        "            R (ndarray): Rating matrix.\n",
        "        \"\"\"\n",
        "        # Start your code\n",
        "        E_itrs = []\n",
        "        LRs = []\n",
        "        batch_s = 512\n",
        "        self.model_is_training = True         \n",
        "        for ite in tqdm(range(self.num_iterations)):\n",
        "            print(\"\\n ------------------------------ Itreation {0} ------------------------------\".format(ite+1))\n",
        "            E_batch = []\n",
        "            current_lr = learning_rate_scheduler(ite, self.num_iterations, self.learning_rate, self.learning_rate/20)\n",
        "            LRs.append(current_lr)\n",
        "            print(\"Learing rate:\",round(current_lr,4))\n",
        "            for user_batch in get_batches(list(range(self.num_users)), batch_size=batch_s):\n",
        "                item_batch = set([])\n",
        "                E_users = []\n",
        "                Q_gradian = np.zeros(self.Q.shape,dtype=np.longfloat)\n",
        "                P_gradian = np.zeros(self.P.shape,dtype=np.longfloat)\n",
        "                \n",
        "                for user in user_batch:\n",
        "                    items = R[:, user].nonzero()[0]\n",
        "                    item_batch.update(items)\n",
        "                    user_e = 0\n",
        "                    for item in items: \n",
        "                        prediction = self.predict_rating(item, user)  \n",
        "                        _dif = R[item, user] - prediction\n",
        "\n",
        "                        if _dif == None or _dif == np.nan or abs(_dif) == np.inf:\n",
        "                            print(\"Error R[item, user] - prediction\")\n",
        "\n",
        "                        error = np.log(self.sigmoid(_dif)) \n",
        "                        user_e += error\n",
        "                        Q_gradian[item,:] += self.P[user] * self.sigmoid(_dif) * np.exp(-_dif) + 2 * self.regularization_rate * self.Q[item]\n",
        "                        P_gradian[user,:] += self.Q[item] * self.sigmoid(_dif) * np.exp(-_dif) + 2 * self.regularization_rate * self.P[user]\n",
        "                    E_users.append(user_e)\n",
        "                \n",
        "                item_batch = list(item_batch)        \n",
        "                E = sum(E_users) + self.regularization_rate * (sum_squared_norms(self.Q[item_batch]) + sum_squared_norms(self.P[user_batch]))\n",
        "                E_batch.append(E)\n",
        "\n",
        "                self.Q[item_batch] -= current_lr * Q_gradian[item_batch]\n",
        "                self.P[user_batch] -= current_lr * P_gradian[user_batch]\n",
        "\n",
        "                if None in self.Q or np.nan in self.Q or np.inf in self.Q or -np.inf in self.Q or None in self.P or np.nan in self.P or np.inf in self.P or -np.inf in self.P:\n",
        "                    print(\"Error in fact matrices\")\n",
        "\n",
        "                if None in Q_gradian or np.nan in Q_gradian or np.inf in Q_gradian or -np.inf in Q_gradian or None in P_gradian or np.nan in P_gradian or np.inf in P_gradian or -np.inf in P_gradian:\n",
        "                    print(\"Error in gradian matrices\")    \n",
        "                  \n",
        "            E_itrs.append(np.abs(np.mean(E_batch)))\n",
        "            print(\"Iterations Loss: \",E_itrs[-1])\n",
        "            self.model_is_training = False\n",
        "            print(f\"Predicted rating for item 0 and user 0:\",self.predict_rating(0,0))\n",
        "            self.model_is_training = True\n",
        "            \n",
        "        self.Losses =  E_itrs\n",
        "        self.LRs = LRs    \n",
        "        self.R = R\n",
        "        self.model_is_training = False             \n",
        "        # End your code\n",
        "\n",
        "    def train(self, R):\n",
        "        \"\"\"\n",
        "        Train the Matrix Factorization model.\n",
        "\n",
        "        Args:\n",
        "            R (ndarray): Rating matrix.\n",
        "        \"\"\"\n",
        "        self.update_parameters(R)\n",
        "\n",
        "\n",
        "    def predict_rating(self, i, u):\n",
        "        \"\"\"\n",
        "        Predict the rating for item i and user u.\n",
        "\n",
        "        Args:\n",
        "            i (int): Item index.\n",
        "            u (int): User index.\n",
        "\n",
        "        Returns:\n",
        "            float: Predicted rating.\n",
        "        \"\"\"\n",
        "        # Start your code\n",
        "        q_vector = self.Q[i]\n",
        "        p_vector = self.P[u]\n",
        "        if self.model_is_training:\n",
        "            return np.dot(q_vector, p_vector.T)\n",
        "        else:\n",
        "            return np.abs(np.dot(q_vector, p_vector.T))\n",
        "        # End your code\n",
        "\n",
        "    def evaluate(self, users_list, groundTruth_list, topk=10):\n",
        "        \"\"\"\n",
        "        Evaluate trained model for item i and user u\n",
        "\n",
        "        Args:\n",
        "            users_list (list): Users indexes list.\n",
        "            groundTruth_list (list) : list of items in users test set\n",
        "            topk (int): threshold for top item selection\n",
        "\n",
        "        Returns:\n",
        "            float: sum(Intersection between topk predicted items and user profile in test set / user profile size in test set) / len(users_list)\n",
        "        \"\"\"\n",
        "        # Start your code\n",
        "        print(\"Start Model Evaluating\")\n",
        "        Result = 0\n",
        "        R_test = np.ones_like(self.R) - self.R\n",
        "        preds = []\n",
        "        self.model_is_training = True\n",
        "        for user in tqdm(users_list):\n",
        "            item_to_test = R_test[:, user].nonzero()[0]\n",
        "            pred = self.predict_rating(item_to_test,user) \n",
        "            _argsort = np.argsort(pred) [:topk]\n",
        "            selected_items = item_to_test[_argsort]\n",
        "            res = np.intersect1d(selected_items, groundTruth_list[user])\n",
        "            l = res.flatten().shape[0]\n",
        "            if l !=0 :\n",
        "                Result += l/topk\n",
        "                preds.append(l)\n",
        "        self.model_is_training = False\n",
        "        self.eval_value = Result/len(users_list)\n",
        "        self.eval_intersects = preds\n",
        "        self.topk = topk\n",
        "        print(\"Model Performance:\",round(self.eval_value,8))\n",
        "        return self.eval_value\n",
        "        # End your code\n"
      ]
    },
    {
      "cell_type": "code",
      "execution_count": 39,
      "metadata": {
        "colab": {
          "background_save": true,
          "base_uri": "https://localhost:8080/"
        },
        "id": "I8RT63r39SZy",
        "outputId": "3d297a64-a678-4849-c613-a0b61f5d0e39"
      },
      "outputs": [
        {
          "name": "stderr",
          "output_type": "stream",
          "text": [
            "  0%|          | 0/50 [00:00<?, ?it/s]"
          ]
        },
        {
          "name": "stdout",
          "output_type": "stream",
          "text": [
            "\n",
            " ------------------------------ Itreation 1 ------------------------------\n",
            "Learing rate: 0.2\n"
          ]
        },
        {
          "name": "stderr",
          "output_type": "stream",
          "text": [
            "  2%|▏         | 1/50 [00:54<44:08, 54.05s/it]"
          ]
        },
        {
          "name": "stdout",
          "output_type": "stream",
          "text": [
            "Iterations Loss:  3507.968086328037\n",
            "Predicted rating for item 0 and user 0: 0.033670873938291115\n",
            "\n",
            " ------------------------------ Itreation 2 ------------------------------\n",
            "Learing rate: 0.1962\n"
          ]
        },
        {
          "name": "stderr",
          "output_type": "stream",
          "text": [
            "  4%|▍         | 2/50 [01:47<43:04, 53.84s/it]"
          ]
        },
        {
          "name": "stdout",
          "output_type": "stream",
          "text": [
            "Iterations Loss:  3367.904402723588\n",
            "Predicted rating for item 0 and user 0: 0.11026141940826426\n",
            "\n",
            " ------------------------------ Itreation 3 ------------------------------\n",
            "Learing rate: 0.1924\n"
          ]
        },
        {
          "name": "stderr",
          "output_type": "stream",
          "text": [
            "  6%|▌         | 3/50 [02:41<42:01, 53.66s/it]"
          ]
        },
        {
          "name": "stdout",
          "output_type": "stream",
          "text": [
            "Iterations Loss:  2780.7283432992635\n",
            "Predicted rating for item 0 and user 0: 0.8085860719676063\n",
            "\n",
            " ------------------------------ Itreation 4 ------------------------------\n",
            "Learing rate: 0.1886\n"
          ]
        },
        {
          "name": "stderr",
          "output_type": "stream",
          "text": [
            "  8%|▊         | 4/50 [03:35<41:16, 53.83s/it]"
          ]
        },
        {
          "name": "stdout",
          "output_type": "stream",
          "text": [
            "Iterations Loss:  1797.161290002925\n",
            "Predicted rating for item 0 and user 0: 1.8362048310234362\n",
            "\n",
            " ------------------------------ Itreation 5 ------------------------------\n",
            "Learing rate: 0.1848\n"
          ]
        },
        {
          "name": "stderr",
          "output_type": "stream",
          "text": [
            " 10%|█         | 5/50 [04:28<40:08, 53.52s/it]"
          ]
        },
        {
          "name": "stdout",
          "output_type": "stream",
          "text": [
            "Iterations Loss:  1093.1519700901465\n",
            "Predicted rating for item 0 and user 0: 2.633693025853856\n",
            "\n",
            " ------------------------------ Itreation 6 ------------------------------\n",
            "Learing rate: 0.181\n"
          ]
        },
        {
          "name": "stderr",
          "output_type": "stream",
          "text": [
            " 12%|█▏        | 6/50 [05:21<39:14, 53.51s/it]"
          ]
        },
        {
          "name": "stdout",
          "output_type": "stream",
          "text": [
            "Iterations Loss:  679.945089933325\n",
            "Predicted rating for item 0 and user 0: 3.2124848099137817\n",
            "\n",
            " ------------------------------ Itreation 7 ------------------------------\n",
            "Learing rate: 0.1772\n"
          ]
        },
        {
          "name": "stderr",
          "output_type": "stream",
          "text": [
            " 14%|█▍        | 7/50 [06:15<38:26, 53.65s/it]"
          ]
        },
        {
          "name": "stdout",
          "output_type": "stream",
          "text": [
            "Iterations Loss:  443.90629462020235\n",
            "Predicted rating for item 0 and user 0: 3.5997851730302877\n",
            "\n",
            " ------------------------------ Itreation 8 ------------------------------\n",
            "Learing rate: 0.1734\n"
          ]
        },
        {
          "name": "stderr",
          "output_type": "stream",
          "text": [
            " 16%|█▌        | 8/50 [07:09<37:28, 53.55s/it]"
          ]
        },
        {
          "name": "stdout",
          "output_type": "stream",
          "text": [
            "Iterations Loss:  305.7504269537639\n",
            "Predicted rating for item 0 and user 0: 3.8755399776121817\n",
            "\n",
            " ------------------------------ Itreation 9 ------------------------------\n",
            "Learing rate: 0.1696\n"
          ]
        },
        {
          "name": "stderr",
          "output_type": "stream",
          "text": [
            " 18%|█▊        | 9/50 [08:02<36:34, 53.51s/it]"
          ]
        },
        {
          "name": "stdout",
          "output_type": "stream",
          "text": [
            "Iterations Loss:  221.28765885402333\n",
            "Predicted rating for item 0 and user 0: 4.091244407961195\n",
            "\n",
            " ------------------------------ Itreation 10 ------------------------------\n",
            "Learing rate: 0.1658\n"
          ]
        },
        {
          "name": "stderr",
          "output_type": "stream",
          "text": [
            " 20%|██        | 10/50 [08:54<35:24, 53.12s/it]"
          ]
        },
        {
          "name": "stdout",
          "output_type": "stream",
          "text": [
            "Iterations Loss:  166.83712932336056\n",
            "Predicted rating for item 0 and user 0: 4.249580767948613\n",
            "\n",
            " ------------------------------ Itreation 11 ------------------------------\n",
            "Learing rate: 0.162\n"
          ]
        },
        {
          "name": "stderr",
          "output_type": "stream",
          "text": [
            " 22%|██▏       | 11/50 [09:47<34:29, 53.07s/it]"
          ]
        },
        {
          "name": "stdout",
          "output_type": "stream",
          "text": [
            "Iterations Loss:  129.98946760022346\n",
            "Predicted rating for item 0 and user 0: 4.360268674625363\n",
            "\n",
            " ------------------------------ Itreation 12 ------------------------------\n",
            "Learing rate: 0.1582\n"
          ]
        },
        {
          "name": "stderr",
          "output_type": "stream",
          "text": [
            " 24%|██▍       | 12/50 [10:41<33:46, 53.33s/it]"
          ]
        },
        {
          "name": "stdout",
          "output_type": "stream",
          "text": [
            "Iterations Loss:  103.94866441429244\n",
            "Predicted rating for item 0 and user 0: 4.446382731991267\n",
            "\n",
            " ------------------------------ Itreation 13 ------------------------------\n",
            "Learing rate: 0.1544\n"
          ]
        },
        {
          "name": "stderr",
          "output_type": "stream",
          "text": [
            " 26%|██▌       | 13/50 [11:35<33:03, 53.61s/it]"
          ]
        },
        {
          "name": "stdout",
          "output_type": "stream",
          "text": [
            "Iterations Loss:  84.86009058670477\n",
            "Predicted rating for item 0 and user 0: 4.512868509609593\n",
            "\n",
            " ------------------------------ Itreation 14 ------------------------------\n",
            "Learing rate: 0.1506\n"
          ]
        },
        {
          "name": "stderr",
          "output_type": "stream",
          "text": [
            " 28%|██▊       | 14/50 [12:36<33:29, 55.83s/it]"
          ]
        },
        {
          "name": "stdout",
          "output_type": "stream",
          "text": [
            "Iterations Loss:  70.38032880459035\n",
            "Predicted rating for item 0 and user 0: 4.56879331631347\n",
            "\n",
            " ------------------------------ Itreation 15 ------------------------------\n",
            "Learing rate: 0.1468\n"
          ]
        },
        {
          "name": "stderr",
          "output_type": "stream",
          "text": [
            " 30%|███       | 15/50 [13:30<32:12, 55.20s/it]"
          ]
        },
        {
          "name": "stdout",
          "output_type": "stream",
          "text": [
            "Iterations Loss:  59.15752032002225\n",
            "Predicted rating for item 0 and user 0: 4.608285326170319\n",
            "\n",
            " ------------------------------ Itreation 16 ------------------------------\n",
            "Learing rate: 0.143\n"
          ]
        },
        {
          "name": "stderr",
          "output_type": "stream",
          "text": [
            " 32%|███▏      | 16/50 [14:23<30:57, 54.64s/it]"
          ]
        },
        {
          "name": "stdout",
          "output_type": "stream",
          "text": [
            "Iterations Loss:  50.241645427675905\n",
            "Predicted rating for item 0 and user 0: 4.642312315168107\n",
            "\n",
            " ------------------------------ Itreation 17 ------------------------------\n",
            "Learing rate: 0.1392\n"
          ]
        },
        {
          "name": "stderr",
          "output_type": "stream",
          "text": [
            " 34%|███▍      | 17/50 [15:18<30:02, 54.63s/it]"
          ]
        },
        {
          "name": "stdout",
          "output_type": "stream",
          "text": [
            "Iterations Loss:  42.99071388190185\n",
            "Predicted rating for item 0 and user 0: 4.669840270138706\n",
            "\n",
            " ------------------------------ Itreation 18 ------------------------------\n",
            "Learing rate: 0.1354\n"
          ]
        },
        {
          "name": "stderr",
          "output_type": "stream",
          "text": [
            " 36%|███▌      | 18/50 [16:16<29:45, 55.79s/it]"
          ]
        },
        {
          "name": "stdout",
          "output_type": "stream",
          "text": [
            "Iterations Loss:  37.08072851623589\n",
            "Predicted rating for item 0 and user 0: 4.692308425725951\n",
            "\n",
            " ------------------------------ Itreation 19 ------------------------------\n",
            "Learing rate: 0.1316\n"
          ]
        },
        {
          "name": "stderr",
          "output_type": "stream",
          "text": [
            " 38%|███▊      | 19/50 [17:12<28:43, 55.61s/it]"
          ]
        },
        {
          "name": "stdout",
          "output_type": "stream",
          "text": [
            "Iterations Loss:  31.99599955769153\n",
            "Predicted rating for item 0 and user 0: 4.707972203429406\n",
            "\n",
            " ------------------------------ Itreation 20 ------------------------------\n",
            "Learing rate: 0.1278\n"
          ]
        },
        {
          "name": "stderr",
          "output_type": "stream",
          "text": [
            " 40%|████      | 20/50 [18:06<27:40, 55.34s/it]"
          ]
        },
        {
          "name": "stdout",
          "output_type": "stream",
          "text": [
            "Iterations Loss:  27.801960307337676\n",
            "Predicted rating for item 0 and user 0: 4.720690490731591\n",
            "\n",
            " ------------------------------ Itreation 21 ------------------------------\n",
            "Learing rate: 0.124\n"
          ]
        },
        {
          "name": "stderr",
          "output_type": "stream",
          "text": [
            " 42%|████▏     | 21/50 [19:02<26:43, 55.28s/it]"
          ]
        },
        {
          "name": "stdout",
          "output_type": "stream",
          "text": [
            "Iterations Loss:  24.15491108989717\n",
            "Predicted rating for item 0 and user 0: 4.731608887232312\n",
            "\n",
            " ------------------------------ Itreation 22 ------------------------------\n",
            "Learing rate: 0.1202\n"
          ]
        },
        {
          "name": "stderr",
          "output_type": "stream",
          "text": [
            " 44%|████▍     | 22/50 [19:57<25:47, 55.26s/it]"
          ]
        },
        {
          "name": "stdout",
          "output_type": "stream",
          "text": [
            "Iterations Loss:  21.063495462334043\n",
            "Predicted rating for item 0 and user 0: 4.740410575161292\n",
            "\n",
            " ------------------------------ Itreation 23 ------------------------------\n",
            "Learing rate: 0.1164\n"
          ]
        },
        {
          "name": "stderr",
          "output_type": "stream",
          "text": [
            " 46%|████▌     | 23/50 [21:00<26:00, 57.80s/it]"
          ]
        },
        {
          "name": "stdout",
          "output_type": "stream",
          "text": [
            "Iterations Loss:  18.40363726275535\n",
            "Predicted rating for item 0 and user 0: 4.748548177107704\n",
            "\n",
            " ------------------------------ Itreation 24 ------------------------------\n",
            "Learing rate: 0.1126\n"
          ]
        },
        {
          "name": "stderr",
          "output_type": "stream",
          "text": [
            " 48%|████▊     | 24/50 [22:01<25:25, 58.66s/it]"
          ]
        },
        {
          "name": "stdout",
          "output_type": "stream",
          "text": [
            "Iterations Loss:  16.043333836154204\n",
            "Predicted rating for item 0 and user 0: 4.755065226689522\n",
            "\n",
            " ------------------------------ Itreation 25 ------------------------------\n",
            "Learing rate: 0.1088\n"
          ]
        },
        {
          "name": "stderr",
          "output_type": "stream",
          "text": [
            " 50%|█████     | 25/50 [23:03<24:49, 59.59s/it]"
          ]
        },
        {
          "name": "stdout",
          "output_type": "stream",
          "text": [
            "Iterations Loss:  14.00203661954515\n",
            "Predicted rating for item 0 and user 0: 4.761367365876541\n",
            "\n",
            " ------------------------------ Itreation 26 ------------------------------\n",
            "Learing rate: 0.105\n"
          ]
        },
        {
          "name": "stderr",
          "output_type": "stream",
          "text": [
            " 52%|█████▏    | 26/50 [24:05<24:09, 60.40s/it]"
          ]
        },
        {
          "name": "stdout",
          "output_type": "stream",
          "text": [
            "Iterations Loss:  12.099896391531995\n",
            "Predicted rating for item 0 and user 0: 4.766721449724244\n",
            "\n",
            " ------------------------------ Itreation 27 ------------------------------\n",
            "Learing rate: 0.1012\n"
          ]
        },
        {
          "name": "stderr",
          "output_type": "stream",
          "text": [
            " 54%|█████▍    | 27/50 [25:06<23:09, 60.42s/it]"
          ]
        },
        {
          "name": "stdout",
          "output_type": "stream",
          "text": [
            "Iterations Loss:  10.526646399968222\n",
            "Predicted rating for item 0 and user 0: 4.771561380026436\n",
            "\n",
            " ------------------------------ Itreation 28 ------------------------------\n",
            "Learing rate: 0.0974\n"
          ]
        },
        {
          "name": "stderr",
          "output_type": "stream",
          "text": [
            " 56%|█████▌    | 28/50 [26:06<22:06, 60.28s/it]"
          ]
        },
        {
          "name": "stdout",
          "output_type": "stream",
          "text": [
            "Iterations Loss:  9.018388604579249\n",
            "Predicted rating for item 0 and user 0: 4.774775337140639\n",
            "\n",
            " ------------------------------ Itreation 29 ------------------------------\n",
            "Learing rate: 0.0936\n"
          ]
        },
        {
          "name": "stderr",
          "output_type": "stream",
          "text": [
            " 58%|█████▊    | 29/50 [27:05<21:00, 60.03s/it]"
          ]
        },
        {
          "name": "stdout",
          "output_type": "stream",
          "text": [
            "Iterations Loss:  7.714504986370344\n",
            "Predicted rating for item 0 and user 0: 4.778041401919\n",
            "\n",
            " ------------------------------ Itreation 30 ------------------------------\n",
            "Learing rate: 0.0898\n"
          ]
        },
        {
          "name": "stderr",
          "output_type": "stream",
          "text": [
            " 60%|██████    | 30/50 [28:04<19:51, 59.58s/it]"
          ]
        },
        {
          "name": "stdout",
          "output_type": "stream",
          "text": [
            "Iterations Loss:  6.4884810085254925\n",
            "Predicted rating for item 0 and user 0: 4.7812918391685\n",
            "\n",
            " ------------------------------ Itreation 31 ------------------------------\n",
            "Learing rate: 0.086\n"
          ]
        },
        {
          "name": "stderr",
          "output_type": "stream",
          "text": [
            " 62%|██████▏   | 31/50 [29:04<18:55, 59.76s/it]"
          ]
        },
        {
          "name": "stdout",
          "output_type": "stream",
          "text": [
            "Iterations Loss:  5.495753328088911\n",
            "Predicted rating for item 0 and user 0: 4.783798192200058\n",
            "\n",
            " ------------------------------ Itreation 32 ------------------------------\n",
            "Learing rate: 0.0822\n"
          ]
        },
        {
          "name": "stderr",
          "output_type": "stream",
          "text": [
            " 64%|██████▍   | 32/50 [30:06<18:07, 60.41s/it]"
          ]
        },
        {
          "name": "stdout",
          "output_type": "stream",
          "text": [
            "Iterations Loss:  4.5183756879662855\n",
            "Predicted rating for item 0 and user 0: 4.786080070260103\n",
            "\n",
            " ------------------------------ Itreation 33 ------------------------------\n",
            "Learing rate: 0.0784\n"
          ]
        },
        {
          "name": "stderr",
          "output_type": "stream",
          "text": [
            " 66%|██████▌   | 33/50 [31:04<16:55, 59.74s/it]"
          ]
        },
        {
          "name": "stdout",
          "output_type": "stream",
          "text": [
            "Iterations Loss:  3.647844277296466\n",
            "Predicted rating for item 0 and user 0: 4.788481467043453\n",
            "\n",
            " ------------------------------ Itreation 34 ------------------------------\n",
            "Learing rate: 0.0746\n"
          ]
        },
        {
          "name": "stderr",
          "output_type": "stream",
          "text": [
            " 68%|██████▊   | 34/50 [32:06<16:07, 60.44s/it]"
          ]
        },
        {
          "name": "stdout",
          "output_type": "stream",
          "text": [
            "Iterations Loss:  2.7931010724443115\n",
            "Predicted rating for item 0 and user 0: 4.790594273189407\n",
            "\n",
            " ------------------------------ Itreation 35 ------------------------------\n",
            "Learing rate: 0.0708\n"
          ]
        },
        {
          "name": "stderr",
          "output_type": "stream",
          "text": [
            " 70%|███████   | 35/50 [33:06<15:04, 60.32s/it]"
          ]
        },
        {
          "name": "stdout",
          "output_type": "stream",
          "text": [
            "Iterations Loss:  2.0966120503871997\n",
            "Predicted rating for item 0 and user 0: 4.792505027767877\n",
            "\n",
            " ------------------------------ Itreation 36 ------------------------------\n",
            "Learing rate: 0.067\n"
          ]
        },
        {
          "name": "stderr",
          "output_type": "stream",
          "text": [
            " 72%|███████▏  | 36/50 [34:04<13:56, 59.72s/it]"
          ]
        },
        {
          "name": "stdout",
          "output_type": "stream",
          "text": [
            "Iterations Loss:  1.4606997417745236\n",
            "Predicted rating for item 0 and user 0: 4.794064071385357\n",
            "\n",
            " ------------------------------ Itreation 37 ------------------------------\n",
            "Learing rate: 0.0632\n"
          ]
        },
        {
          "name": "stderr",
          "output_type": "stream",
          "text": [
            " 74%|███████▍  | 37/50 [35:04<12:55, 59.69s/it]"
          ]
        },
        {
          "name": "stdout",
          "output_type": "stream",
          "text": [
            "Iterations Loss:  0.8434116893783825\n",
            "Predicted rating for item 0 and user 0: 4.795536304569543\n",
            "\n",
            " ------------------------------ Itreation 38 ------------------------------\n",
            "Learing rate: 0.0594\n"
          ]
        },
        {
          "name": "stderr",
          "output_type": "stream",
          "text": [
            " 76%|███████▌  | 38/50 [36:04<11:57, 59.76s/it]"
          ]
        },
        {
          "name": "stdout",
          "output_type": "stream",
          "text": [
            "Iterations Loss:  0.3750429799065816\n",
            "Predicted rating for item 0 and user 0: 4.797000107413894\n",
            "\n",
            " ------------------------------ Itreation 39 ------------------------------\n",
            "Learing rate: 0.0556\n"
          ]
        },
        {
          "name": "stderr",
          "output_type": "stream",
          "text": [
            " 78%|███████▊  | 39/50 [37:03<10:54, 59.46s/it]"
          ]
        },
        {
          "name": "stdout",
          "output_type": "stream",
          "text": [
            "Iterations Loss:  0.16576529522033415\n",
            "Predicted rating for item 0 and user 0: 4.798405639249703\n",
            "\n",
            " ------------------------------ Itreation 40 ------------------------------\n",
            "Learing rate: 0.0518\n"
          ]
        },
        {
          "name": "stderr",
          "output_type": "stream",
          "text": [
            " 80%|████████  | 40/50 [38:04<09:59, 59.93s/it]"
          ]
        },
        {
          "name": "stdout",
          "output_type": "stream",
          "text": [
            "Iterations Loss:  0.6168228035438403\n",
            "Predicted rating for item 0 and user 0: 4.799671226262483\n",
            "\n",
            " ------------------------------ Itreation 41 ------------------------------\n",
            "Learing rate: 0.048\n"
          ]
        },
        {
          "name": "stderr",
          "output_type": "stream",
          "text": [
            " 82%|████████▏ | 41/50 [39:03<08:57, 59.74s/it]"
          ]
        },
        {
          "name": "stdout",
          "output_type": "stream",
          "text": [
            "Iterations Loss:  0.9970007370669153\n",
            "Predicted rating for item 0 and user 0: 4.800852756314134\n",
            "\n",
            " ------------------------------ Itreation 42 ------------------------------\n",
            "Learing rate: 0.0442\n"
          ]
        },
        {
          "name": "stderr",
          "output_type": "stream",
          "text": [
            " 84%|████████▍ | 42/50 [40:04<08:02, 60.27s/it]"
          ]
        },
        {
          "name": "stdout",
          "output_type": "stream",
          "text": [
            "Iterations Loss:  1.4087865723313258\n",
            "Predicted rating for item 0 and user 0: 4.801845489120348\n",
            "\n",
            " ------------------------------ Itreation 43 ------------------------------\n",
            "Learing rate: 0.0404\n"
          ]
        },
        {
          "name": "stderr",
          "output_type": "stream",
          "text": [
            " 86%|████████▌ | 43/50 [40:59<06:50, 58.66s/it]"
          ]
        },
        {
          "name": "stdout",
          "output_type": "stream",
          "text": [
            "Iterations Loss:  1.5714718336894309\n",
            "Predicted rating for item 0 and user 0: 4.802874216603255\n",
            "\n",
            " ------------------------------ Itreation 44 ------------------------------\n",
            "Learing rate: 0.0366\n"
          ]
        },
        {
          "name": "stderr",
          "output_type": "stream",
          "text": [
            " 88%|████████▊ | 44/50 [42:00<05:56, 59.39s/it]"
          ]
        },
        {
          "name": "stdout",
          "output_type": "stream",
          "text": [
            "Iterations Loss:  1.9357504542111752\n",
            "Predicted rating for item 0 and user 0: 4.803724485400425\n",
            "\n",
            " ------------------------------ Itreation 45 ------------------------------\n",
            "Learing rate: 0.0328\n"
          ]
        },
        {
          "name": "stderr",
          "output_type": "stream",
          "text": [
            " 90%|█████████ | 45/50 [43:02<05:00, 60.11s/it]"
          ]
        },
        {
          "name": "stdout",
          "output_type": "stream",
          "text": [
            "Iterations Loss:  2.209591223824209\n",
            "Predicted rating for item 0 and user 0: 4.804514798507894\n",
            "\n",
            " ------------------------------ Itreation 46 ------------------------------\n",
            "Learing rate: 0.029\n"
          ]
        },
        {
          "name": "stderr",
          "output_type": "stream",
          "text": [
            " 92%|█████████▏| 46/50 [44:05<04:03, 60.86s/it]"
          ]
        },
        {
          "name": "stdout",
          "output_type": "stream",
          "text": [
            "Iterations Loss:  2.426537129104355\n",
            "Predicted rating for item 0 and user 0: 4.805208365973245\n",
            "\n",
            " ------------------------------ Itreation 47 ------------------------------\n",
            "Learing rate: 0.0252\n"
          ]
        },
        {
          "name": "stderr",
          "output_type": "stream",
          "text": [
            " 94%|█████████▍| 47/50 [45:06<03:02, 60.99s/it]"
          ]
        },
        {
          "name": "stdout",
          "output_type": "stream",
          "text": [
            "Iterations Loss:  2.637706239233563\n",
            "Predicted rating for item 0 and user 0: 4.805828653952928\n",
            "\n",
            " ------------------------------ Itreation 48 ------------------------------\n",
            "Learing rate: 0.0214\n"
          ]
        },
        {
          "name": "stderr",
          "output_type": "stream",
          "text": [
            " 96%|█████████▌| 48/50 [46:07<02:01, 60.91s/it]"
          ]
        },
        {
          "name": "stdout",
          "output_type": "stream",
          "text": [
            "Iterations Loss:  2.829995729882002\n",
            "Predicted rating for item 0 and user 0: 4.806344675861133\n",
            "\n",
            " ------------------------------ Itreation 49 ------------------------------\n",
            "Learing rate: 0.0176\n"
          ]
        },
        {
          "name": "stderr",
          "output_type": "stream",
          "text": [
            " 98%|█████████▊| 49/50 [47:05<01:00, 60.01s/it]"
          ]
        },
        {
          "name": "stdout",
          "output_type": "stream",
          "text": [
            "Iterations Loss:  2.936353942086615\n",
            "Predicted rating for item 0 and user 0: 4.806765813159359\n",
            "\n",
            " ------------------------------ Itreation 50 ------------------------------\n",
            "Learing rate: 0.0138\n"
          ]
        },
        {
          "name": "stderr",
          "output_type": "stream",
          "text": [
            "100%|██████████| 50/50 [48:00<00:00, 57.61s/it]"
          ]
        },
        {
          "name": "stdout",
          "output_type": "stream",
          "text": [
            "Iterations Loss:  3.050127312665183\n",
            "Predicted rating for item 0 and user 0: 4.807091875779598\n",
            "None\n",
            "Predicted rating for item 0 and user 0: 4.807091875779598\n",
            "Start Model Evaluating\n"
          ]
        },
        {
          "name": "stderr",
          "output_type": "stream",
          "text": [
            "\n",
            "100%|██████████| 29858/29858 [03:20<00:00, 149.09it/s]\n"
          ]
        },
        {
          "name": "stdout",
          "output_type": "stream",
          "text": [
            "Model Performance: 0.01586509\n",
            "Accuracy for model: 0.015865094781968805\n"
          ]
        }
      ],
      "source": [
        "num_factors = 32\n",
        "learning_rate = 0.2\n",
        "regularization_rate = 1e-3\n",
        "num_iterations = 50\n",
        "\n",
        "model = MatrixFactorization(num_items, num_users, num_factors, learning_rate, regularization_rate,num_iterations)\n",
        "print(model.train(R_train))\n",
        "\n",
        "\n",
        "# Test prediction for item 0 and user 0\n",
        "item_index = 0\n",
        "user_index = 0\n",
        "prediction = model.predict_rating(item_index, user_index)\n",
        "print(f\"Predicted rating for item {item_index} and user {user_index}: {prediction}\")\n",
        "\n",
        "# Evaluate model for users in test set\n",
        "user_indexes = list(range(num_users))\n",
        "groudTruths = test_indexes\n",
        "result = model.evaluate(user_indexes, groudTruths)\n",
        "print(f\"Accuracy for model: {result}\")\n"
      ]
    },
    {
      "cell_type": "code",
      "execution_count": 43,
      "metadata": {},
      "outputs": [
        {
          "name": "stderr",
          "output_type": "stream",
          "text": [
            "  0%|          | 0/50 [00:00<?, ?it/s]"
          ]
        },
        {
          "name": "stdout",
          "output_type": "stream",
          "text": [
            "\n",
            " ------------------------------ Itreation 1 ------------------------------\n",
            "Learing rate: 0.2\n"
          ]
        },
        {
          "name": "stderr",
          "output_type": "stream",
          "text": [
            "  2%|▏         | 1/50 [01:10<57:27, 70.37s/it]"
          ]
        },
        {
          "name": "stdout",
          "output_type": "stream",
          "text": [
            "Iterations Loss:  3508.983213643432\n",
            "Predicted rating for item 0 and user 0: 0.030883643226416384\n",
            "\n",
            " ------------------------------ Itreation 2 ------------------------------\n",
            "Learing rate: 0.1962\n"
          ]
        },
        {
          "name": "stderr",
          "output_type": "stream",
          "text": [
            "  4%|▍         | 2/50 [02:19<55:38, 69.56s/it]"
          ]
        },
        {
          "name": "stdout",
          "output_type": "stream",
          "text": [
            "Iterations Loss:  3261.477281388694\n",
            "Predicted rating for item 0 and user 0: 0.08969870902781554\n",
            "\n",
            " ------------------------------ Itreation 3 ------------------------------\n",
            "Learing rate: 0.1924\n"
          ]
        },
        {
          "name": "stderr",
          "output_type": "stream",
          "text": [
            "  6%|▌         | 3/50 [03:33<56:03, 71.57s/it]"
          ]
        },
        {
          "name": "stdout",
          "output_type": "stream",
          "text": [
            "Iterations Loss:  2561.48770186568\n",
            "Predicted rating for item 0 and user 0: 0.07877559996711755\n",
            "\n",
            " ------------------------------ Itreation 4 ------------------------------\n",
            "Learing rate: 0.1886\n"
          ]
        },
        {
          "name": "stderr",
          "output_type": "stream",
          "text": [
            "  8%|▊         | 4/50 [04:51<56:49, 74.12s/it]"
          ]
        },
        {
          "name": "stdout",
          "output_type": "stream",
          "text": [
            "Iterations Loss:  1591.7195452574251\n",
            "Predicted rating for item 0 and user 0: 0.6116242506259999\n",
            "\n",
            " ------------------------------ Itreation 5 ------------------------------\n",
            "Learing rate: 0.1848\n"
          ]
        },
        {
          "name": "stderr",
          "output_type": "stream",
          "text": [
            " 10%|█         | 5/50 [06:12<57:24, 76.54s/it]"
          ]
        },
        {
          "name": "stdout",
          "output_type": "stream",
          "text": [
            "Iterations Loss:  970.8505551499788\n",
            "Predicted rating for item 0 and user 0: 1.0868515584360032\n",
            "\n",
            " ------------------------------ Itreation 6 ------------------------------\n",
            "Learing rate: 0.181\n"
          ]
        },
        {
          "name": "stderr",
          "output_type": "stream",
          "text": [
            " 12%|█▏        | 6/50 [07:30<56:37, 77.22s/it]"
          ]
        },
        {
          "name": "stdout",
          "output_type": "stream",
          "text": [
            "Iterations Loss:  616.0436858165026\n",
            "Predicted rating for item 0 and user 0: 1.458544869333795\n",
            "\n",
            " ------------------------------ Itreation 7 ------------------------------\n",
            "Learing rate: 0.1772\n"
          ]
        },
        {
          "name": "stderr",
          "output_type": "stream",
          "text": [
            " 14%|█▍        | 7/50 [08:49<55:43, 77.75s/it]"
          ]
        },
        {
          "name": "stdout",
          "output_type": "stream",
          "text": [
            "Iterations Loss:  412.3655124686326\n",
            "Predicted rating for item 0 and user 0: 1.7502664241355301\n",
            "\n",
            " ------------------------------ Itreation 8 ------------------------------\n",
            "Learing rate: 0.1734\n"
          ]
        },
        {
          "name": "stderr",
          "output_type": "stream",
          "text": [
            " 16%|█▌        | 8/50 [10:09<54:50, 78.34s/it]"
          ]
        },
        {
          "name": "stdout",
          "output_type": "stream",
          "text": [
            "Iterations Loss:  290.80535038420936\n",
            "Predicted rating for item 0 and user 0: 1.9772166214196865\n",
            "\n",
            " ------------------------------ Itreation 9 ------------------------------\n",
            "Learing rate: 0.1696\n"
          ]
        },
        {
          "name": "stderr",
          "output_type": "stream",
          "text": [
            " 18%|█▊        | 9/50 [11:23<52:37, 77.01s/it]"
          ]
        },
        {
          "name": "stdout",
          "output_type": "stream",
          "text": [
            "Iterations Loss:  214.27289709864232\n",
            "Predicted rating for item 0 and user 0: 2.1616946266852533\n",
            "\n",
            " ------------------------------ Itreation 10 ------------------------------\n",
            "Learing rate: 0.1658\n"
          ]
        },
        {
          "name": "stderr",
          "output_type": "stream",
          "text": [
            " 20%|██        | 10/50 [12:42<51:52, 77.82s/it]"
          ]
        },
        {
          "name": "stdout",
          "output_type": "stream",
          "text": [
            "Iterations Loss:  163.8207020252768\n",
            "Predicted rating for item 0 and user 0: 2.3069460583250256\n",
            "\n",
            " ------------------------------ Itreation 11 ------------------------------\n",
            "Learing rate: 0.162\n"
          ]
        },
        {
          "name": "stderr",
          "output_type": "stream",
          "text": [
            " 22%|██▏       | 11/50 [14:00<50:33, 77.79s/it]"
          ]
        },
        {
          "name": "stdout",
          "output_type": "stream",
          "text": [
            "Iterations Loss:  128.75393821932965\n",
            "Predicted rating for item 0 and user 0: 2.4244131853425808\n",
            "\n",
            " ------------------------------ Itreation 12 ------------------------------\n",
            "Learing rate: 0.1582\n"
          ]
        },
        {
          "name": "stderr",
          "output_type": "stream",
          "text": [
            " 24%|██▍       | 12/50 [15:21<49:48, 78.64s/it]"
          ]
        },
        {
          "name": "stdout",
          "output_type": "stream",
          "text": [
            "Iterations Loss:  103.57099717088425\n",
            "Predicted rating for item 0 and user 0: 2.5215893012298296\n",
            "\n",
            " ------------------------------ Itreation 13 ------------------------------\n",
            "Learing rate: 0.1544\n"
          ]
        },
        {
          "name": "stderr",
          "output_type": "stream",
          "text": [
            " 26%|██▌       | 13/50 [16:30<46:41, 75.72s/it]"
          ]
        },
        {
          "name": "stdout",
          "output_type": "stream",
          "text": [
            "Iterations Loss:  84.70192307320984\n",
            "Predicted rating for item 0 and user 0: 2.6054962653164777\n",
            "\n",
            " ------------------------------ Itreation 14 ------------------------------\n",
            "Learing rate: 0.1506\n"
          ]
        },
        {
          "name": "stderr",
          "output_type": "stream",
          "text": [
            " 28%|██▊       | 14/50 [17:39<44:14, 73.75s/it]"
          ]
        },
        {
          "name": "stdout",
          "output_type": "stream",
          "text": [
            "Iterations Loss:  70.26919688009983\n",
            "Predicted rating for item 0 and user 0: 2.6776212671307826\n",
            "\n",
            " ------------------------------ Itreation 15 ------------------------------\n",
            "Learing rate: 0.1468\n"
          ]
        },
        {
          "name": "stderr",
          "output_type": "stream",
          "text": [
            " 30%|███       | 15/50 [18:53<43:07, 73.92s/it]"
          ]
        },
        {
          "name": "stdout",
          "output_type": "stream",
          "text": [
            "Iterations Loss:  59.00722970699277\n",
            "Predicted rating for item 0 and user 0: 2.7380638585205275\n",
            "\n",
            " ------------------------------ Itreation 16 ------------------------------\n",
            "Learing rate: 0.143\n"
          ]
        },
        {
          "name": "stderr",
          "output_type": "stream",
          "text": [
            " 32%|███▏      | 16/50 [20:12<42:42, 75.36s/it]"
          ]
        },
        {
          "name": "stdout",
          "output_type": "stream",
          "text": [
            "Iterations Loss:  49.98649074862488\n",
            "Predicted rating for item 0 and user 0: 2.7914835132450166\n",
            "\n",
            " ------------------------------ Itreation 17 ------------------------------\n",
            "Learing rate: 0.1392\n"
          ]
        },
        {
          "name": "stderr",
          "output_type": "stream",
          "text": [
            " 34%|███▍      | 17/50 [21:38<43:16, 78.67s/it]"
          ]
        },
        {
          "name": "stdout",
          "output_type": "stream",
          "text": [
            "Iterations Loss:  42.56526016322528\n",
            "Predicted rating for item 0 and user 0: 2.839631825967016\n",
            "\n",
            " ------------------------------ Itreation 18 ------------------------------\n",
            "Learing rate: 0.1354\n"
          ]
        },
        {
          "name": "stderr",
          "output_type": "stream",
          "text": [
            " 36%|███▌      | 18/50 [22:55<41:34, 77.94s/it]"
          ]
        },
        {
          "name": "stdout",
          "output_type": "stream",
          "text": [
            "Iterations Loss:  36.41134720741163\n",
            "Predicted rating for item 0 and user 0: 2.8826441524716704\n",
            "\n",
            " ------------------------------ Itreation 19 ------------------------------\n",
            "Learing rate: 0.1316\n"
          ]
        },
        {
          "name": "stderr",
          "output_type": "stream",
          "text": [
            " 38%|███▊      | 19/50 [24:10<39:53, 77.22s/it]"
          ]
        },
        {
          "name": "stdout",
          "output_type": "stream",
          "text": [
            "Iterations Loss:  31.28889753364796\n",
            "Predicted rating for item 0 and user 0: 2.9195247664240327\n",
            "\n",
            " ------------------------------ Itreation 20 ------------------------------\n",
            "Learing rate: 0.1278\n"
          ]
        },
        {
          "name": "stderr",
          "output_type": "stream",
          "text": [
            " 40%|████      | 20/50 [25:36<39:50, 79.69s/it]"
          ]
        },
        {
          "name": "stdout",
          "output_type": "stream",
          "text": [
            "Iterations Loss:  26.94506695454309\n",
            "Predicted rating for item 0 and user 0: 2.952824497362609\n",
            "\n",
            " ------------------------------ Itreation 21 ------------------------------\n",
            "Learing rate: 0.124\n"
          ]
        },
        {
          "name": "stderr",
          "output_type": "stream",
          "text": [
            " 42%|████▏     | 21/50 [26:53<38:14, 79.11s/it]"
          ]
        },
        {
          "name": "stdout",
          "output_type": "stream",
          "text": [
            "Iterations Loss:  23.191631830174046\n",
            "Predicted rating for item 0 and user 0: 2.983877004129096\n",
            "\n",
            " ------------------------------ Itreation 22 ------------------------------\n",
            "Learing rate: 0.1202\n"
          ]
        },
        {
          "name": "stderr",
          "output_type": "stream",
          "text": [
            " 44%|████▍     | 22/50 [28:09<36:24, 78.01s/it]"
          ]
        },
        {
          "name": "stdout",
          "output_type": "stream",
          "text": [
            "Iterations Loss:  19.935793328174793\n",
            "Predicted rating for item 0 and user 0: 3.0118293879488722\n",
            "\n",
            " ------------------------------ Itreation 23 ------------------------------\n",
            "Learing rate: 0.1164\n"
          ]
        },
        {
          "name": "stderr",
          "output_type": "stream",
          "text": [
            " 46%|████▌     | 23/50 [29:29<35:25, 78.71s/it]"
          ]
        },
        {
          "name": "stdout",
          "output_type": "stream",
          "text": [
            "Iterations Loss:  17.074757185648902\n",
            "Predicted rating for item 0 and user 0: 3.036596608740251\n",
            "\n",
            " ------------------------------ Itreation 24 ------------------------------\n",
            "Learing rate: 0.1126\n"
          ]
        },
        {
          "name": "stderr",
          "output_type": "stream",
          "text": [
            " 48%|████▊     | 24/50 [30:50<34:21, 79.28s/it]"
          ]
        },
        {
          "name": "stdout",
          "output_type": "stream",
          "text": [
            "Iterations Loss:  14.618752153017892\n",
            "Predicted rating for item 0 and user 0: 3.0601262110048566\n",
            "\n",
            " ------------------------------ Itreation 25 ------------------------------\n",
            "Learing rate: 0.1088\n"
          ]
        },
        {
          "name": "stderr",
          "output_type": "stream",
          "text": [
            " 50%|█████     | 25/50 [32:08<32:52, 78.90s/it]"
          ]
        },
        {
          "name": "stdout",
          "output_type": "stream",
          "text": [
            "Iterations Loss:  12.468109239183534\n",
            "Predicted rating for item 0 and user 0: 3.081188785582809\n",
            "\n",
            " ------------------------------ Itreation 26 ------------------------------\n",
            "Learing rate: 0.105\n"
          ]
        },
        {
          "name": "stderr",
          "output_type": "stream",
          "text": [
            " 52%|█████▏    | 26/50 [33:28<31:41, 79.23s/it]"
          ]
        },
        {
          "name": "stdout",
          "output_type": "stream",
          "text": [
            "Iterations Loss:  10.55923042706613\n",
            "Predicted rating for item 0 and user 0: 3.1010424275998774\n",
            "\n",
            " ------------------------------ Itreation 27 ------------------------------\n",
            "Learing rate: 0.1012\n"
          ]
        },
        {
          "name": "stderr",
          "output_type": "stream",
          "text": [
            " 54%|█████▍    | 27/50 [34:43<29:57, 78.17s/it]"
          ]
        },
        {
          "name": "stdout",
          "output_type": "stream",
          "text": [
            "Iterations Loss:  8.866075217847456\n",
            "Predicted rating for item 0 and user 0: 3.1193344023408156\n",
            "\n",
            " ------------------------------ Itreation 28 ------------------------------\n",
            "Learing rate: 0.0974\n"
          ]
        },
        {
          "name": "stderr",
          "output_type": "stream",
          "text": [
            " 56%|█████▌    | 28/50 [36:01<28:38, 78.12s/it]"
          ]
        },
        {
          "name": "stdout",
          "output_type": "stream",
          "text": [
            "Iterations Loss:  7.367278505603588\n",
            "Predicted rating for item 0 and user 0: 3.136751535559565\n",
            "\n",
            " ------------------------------ Itreation 29 ------------------------------\n",
            "Learing rate: 0.0936\n"
          ]
        },
        {
          "name": "stderr",
          "output_type": "stream",
          "text": [
            " 58%|█████▊    | 29/50 [37:22<27:33, 78.75s/it]"
          ]
        },
        {
          "name": "stdout",
          "output_type": "stream",
          "text": [
            "Iterations Loss:  5.904511162680822\n",
            "Predicted rating for item 0 and user 0: 3.152726952220821\n",
            "\n",
            " ------------------------------ Itreation 30 ------------------------------\n",
            "Learing rate: 0.0898\n"
          ]
        },
        {
          "name": "stderr",
          "output_type": "stream",
          "text": [
            " 60%|██████    | 30/50 [38:42<26:27, 79.37s/it]"
          ]
        },
        {
          "name": "stdout",
          "output_type": "stream",
          "text": [
            "Iterations Loss:  4.667688937031277\n",
            "Predicted rating for item 0 and user 0: 3.167474178644848\n",
            "\n",
            " ------------------------------ Itreation 31 ------------------------------\n",
            "Learing rate: 0.086\n"
          ]
        },
        {
          "name": "stderr",
          "output_type": "stream",
          "text": [
            " 62%|██████▏   | 31/50 [39:59<24:49, 78.41s/it]"
          ]
        },
        {
          "name": "stdout",
          "output_type": "stream",
          "text": [
            "Iterations Loss:  3.556118959947714\n",
            "Predicted rating for item 0 and user 0: 3.181475481337326\n",
            "\n",
            " ------------------------------ Itreation 32 ------------------------------\n",
            "Learing rate: 0.0822\n"
          ]
        },
        {
          "name": "stderr",
          "output_type": "stream",
          "text": [
            " 64%|██████▍   | 32/50 [41:20<23:48, 79.36s/it]"
          ]
        },
        {
          "name": "stdout",
          "output_type": "stream",
          "text": [
            "Iterations Loss:  2.5763000667792078\n",
            "Predicted rating for item 0 and user 0: 3.1945945780055744\n",
            "\n",
            " ------------------------------ Itreation 33 ------------------------------\n",
            "Learing rate: 0.0784\n"
          ]
        },
        {
          "name": "stderr",
          "output_type": "stream",
          "text": [
            " 66%|██████▌   | 33/50 [42:44<22:51, 80.66s/it]"
          ]
        },
        {
          "name": "stdout",
          "output_type": "stream",
          "text": [
            "Iterations Loss:  1.6702857625614231\n",
            "Predicted rating for item 0 and user 0: 3.2068725949204144\n",
            "\n",
            " ------------------------------ Itreation 34 ------------------------------\n",
            "Learing rate: 0.0746\n"
          ]
        },
        {
          "name": "stderr",
          "output_type": "stream",
          "text": [
            " 68%|██████▊   | 34/50 [43:58<20:58, 78.65s/it]"
          ]
        },
        {
          "name": "stdout",
          "output_type": "stream",
          "text": [
            "Iterations Loss:  0.7669613852982251\n",
            "Predicted rating for item 0 and user 0: 3.218045287918328\n",
            "\n",
            " ------------------------------ Itreation 35 ------------------------------\n",
            "Learing rate: 0.0708\n"
          ]
        },
        {
          "name": "stderr",
          "output_type": "stream",
          "text": [
            " 70%|███████   | 35/50 [45:18<19:48, 79.21s/it]"
          ]
        },
        {
          "name": "stdout",
          "output_type": "stream",
          "text": [
            "Iterations Loss:  0.06990014492157673\n",
            "Predicted rating for item 0 and user 0: 3.228408369994496\n",
            "\n",
            " ------------------------------ Itreation 36 ------------------------------\n",
            "Learing rate: 0.067\n"
          ]
        },
        {
          "name": "stderr",
          "output_type": "stream",
          "text": [
            " 72%|███████▏  | 36/50 [46:42<18:49, 80.64s/it]"
          ]
        },
        {
          "name": "stdout",
          "output_type": "stream",
          "text": [
            "Iterations Loss:  0.6140358388711457\n",
            "Predicted rating for item 0 and user 0: 3.238037893366856\n",
            "\n",
            " ------------------------------ Itreation 37 ------------------------------\n",
            "Learing rate: 0.0632\n"
          ]
        },
        {
          "name": "stderr",
          "output_type": "stream",
          "text": [
            " 74%|███████▍  | 37/50 [47:59<17:11, 79.33s/it]"
          ]
        },
        {
          "name": "stdout",
          "output_type": "stream",
          "text": [
            "Iterations Loss:  1.2379430681361168\n",
            "Predicted rating for item 0 and user 0: 3.247249564843742\n",
            "\n",
            " ------------------------------ Itreation 38 ------------------------------\n",
            "Learing rate: 0.0594\n"
          ]
        },
        {
          "name": "stderr",
          "output_type": "stream",
          "text": [
            " 76%|███████▌  | 38/50 [49:21<16:04, 80.39s/it]"
          ]
        },
        {
          "name": "stdout",
          "output_type": "stream",
          "text": [
            "Iterations Loss:  1.7965266978479004\n",
            "Predicted rating for item 0 and user 0: 3.2556827316206887\n",
            "\n",
            " ------------------------------ Itreation 39 ------------------------------\n",
            "Learing rate: 0.0556\n"
          ]
        },
        {
          "name": "stderr",
          "output_type": "stream",
          "text": [
            " 78%|███████▊  | 39/50 [50:43<14:47, 80.65s/it]"
          ]
        },
        {
          "name": "stdout",
          "output_type": "stream",
          "text": [
            "Iterations Loss:  2.2926448853049552\n",
            "Predicted rating for item 0 and user 0: 3.2635437265942615\n",
            "\n",
            " ------------------------------ Itreation 40 ------------------------------\n",
            "Learing rate: 0.0518\n"
          ]
        },
        {
          "name": "stderr",
          "output_type": "stream",
          "text": [
            " 80%|████████  | 40/50 [52:04<13:29, 80.97s/it]"
          ]
        },
        {
          "name": "stdout",
          "output_type": "stream",
          "text": [
            "Iterations Loss:  2.785848544952714\n",
            "Predicted rating for item 0 and user 0: 3.270728349592476\n",
            "\n",
            " ------------------------------ Itreation 41 ------------------------------\n",
            "Learing rate: 0.048\n"
          ]
        },
        {
          "name": "stderr",
          "output_type": "stream",
          "text": [
            " 82%|████████▏ | 41/50 [53:28<12:14, 81.61s/it]"
          ]
        },
        {
          "name": "stdout",
          "output_type": "stream",
          "text": [
            "Iterations Loss:  3.203178574195094\n",
            "Predicted rating for item 0 and user 0: 3.2773117796602182\n",
            "\n",
            " ------------------------------ Itreation 42 ------------------------------\n",
            "Learing rate: 0.0442\n"
          ]
        },
        {
          "name": "stderr",
          "output_type": "stream",
          "text": [
            " 84%|████████▍ | 42/50 [54:50<10:53, 81.73s/it]"
          ]
        },
        {
          "name": "stdout",
          "output_type": "stream",
          "text": [
            "Iterations Loss:  3.565926846868466\n",
            "Predicted rating for item 0 and user 0: 3.283309411560892\n",
            "\n",
            " ------------------------------ Itreation 43 ------------------------------\n",
            "Learing rate: 0.0404\n"
          ]
        },
        {
          "name": "stderr",
          "output_type": "stream",
          "text": [
            " 86%|████████▌ | 43/50 [56:09<09:27, 81.12s/it]"
          ]
        },
        {
          "name": "stdout",
          "output_type": "stream",
          "text": [
            "Iterations Loss:  3.9143958034496986\n",
            "Predicted rating for item 0 and user 0: 3.288804811191478\n",
            "\n",
            " ------------------------------ Itreation 44 ------------------------------\n",
            "Learing rate: 0.0366\n"
          ]
        },
        {
          "name": "stderr",
          "output_type": "stream",
          "text": [
            " 88%|████████▊ | 44/50 [57:32<08:10, 81.71s/it]"
          ]
        },
        {
          "name": "stdout",
          "output_type": "stream",
          "text": [
            "Iterations Loss:  4.198706519289804\n",
            "Predicted rating for item 0 and user 0: 3.2937387318684372\n",
            "\n",
            " ------------------------------ Itreation 45 ------------------------------\n",
            "Learing rate: 0.0328\n"
          ]
        },
        {
          "name": "stderr",
          "output_type": "stream",
          "text": [
            " 90%|█████████ | 45/50 [58:52<06:45, 81.06s/it]"
          ]
        },
        {
          "name": "stdout",
          "output_type": "stream",
          "text": [
            "Iterations Loss:  4.530263123185741\n",
            "Predicted rating for item 0 and user 0: 3.298073929262985\n",
            "\n",
            " ------------------------------ Itreation 46 ------------------------------\n",
            "Learing rate: 0.029\n"
          ]
        },
        {
          "name": "stderr",
          "output_type": "stream",
          "text": [
            " 92%|█████████▏| 46/50 [1:00:12<05:23, 80.93s/it]"
          ]
        },
        {
          "name": "stdout",
          "output_type": "stream",
          "text": [
            "Iterations Loss:  4.732400625879382\n",
            "Predicted rating for item 0 and user 0: 3.3019264616604556\n",
            "\n",
            " ------------------------------ Itreation 47 ------------------------------\n",
            "Learing rate: 0.0252\n"
          ]
        },
        {
          "name": "stderr",
          "output_type": "stream",
          "text": [
            " 94%|█████████▍| 47/50 [1:01:50<04:18, 86.00s/it]"
          ]
        },
        {
          "name": "stdout",
          "output_type": "stream",
          "text": [
            "Iterations Loss:  4.926938913922773\n",
            "Predicted rating for item 0 and user 0: 3.3052417385892325\n",
            "\n",
            " ------------------------------ Itreation 48 ------------------------------\n",
            "Learing rate: 0.0214\n"
          ]
        },
        {
          "name": "stderr",
          "output_type": "stream",
          "text": [
            " 96%|█████████▌| 48/50 [1:03:15<02:51, 85.65s/it]"
          ]
        },
        {
          "name": "stdout",
          "output_type": "stream",
          "text": [
            "Iterations Loss:  5.169312699069964\n",
            "Predicted rating for item 0 and user 0: 3.3080450951756255\n",
            "\n",
            " ------------------------------ Itreation 49 ------------------------------\n",
            "Learing rate: 0.0176\n"
          ]
        },
        {
          "name": "stderr",
          "output_type": "stream",
          "text": [
            " 98%|█████████▊| 49/50 [1:04:38<01:24, 84.94s/it]"
          ]
        },
        {
          "name": "stdout",
          "output_type": "stream",
          "text": [
            "Iterations Loss:  5.202098707336718\n",
            "Predicted rating for item 0 and user 0: 3.310341489145275\n",
            "\n",
            " ------------------------------ Itreation 50 ------------------------------\n",
            "Learing rate: 0.0138\n"
          ]
        },
        {
          "name": "stderr",
          "output_type": "stream",
          "text": [
            "100%|██████████| 50/50 [1:05:58<00:00, 79.18s/it]"
          ]
        },
        {
          "name": "stdout",
          "output_type": "stream",
          "text": [
            "Iterations Loss:  5.3463606628687765\n",
            "Predicted rating for item 0 and user 0: 3.3121429388509815\n",
            "None\n",
            "Predicted rating for item 0 and user 0: 3.3121429388509815\n",
            "Start Model Evaluating\n"
          ]
        },
        {
          "name": "stderr",
          "output_type": "stream",
          "text": [
            "\n",
            "100%|██████████| 29858/29858 [04:56<00:00, 100.57it/s]\n"
          ]
        },
        {
          "name": "stdout",
          "output_type": "stream",
          "text": [
            "Model Performance: 0.02271418\n",
            "Accuracy for model: 0.022714180454151713\n"
          ]
        }
      ],
      "source": [
        "num_factors_2 = 64\n",
        "learning_rate_2 = 0.2\n",
        "regularization_rate_2 = 1e-3\n",
        "num_iterations_2 = 50\n",
        "\n",
        "model_2 = MatrixFactorization(num_items, num_users, num_factors_2, learning_rate_2, regularization_rate_2,num_iterations_2)\n",
        "print(model_2.train(R_train))\n",
        "\n",
        "\n",
        "# Test prediction for item 0 and user 0\n",
        "item_index = 0\n",
        "user_index = 0\n",
        "prediction = model_2.predict_rating(item_index, user_index)\n",
        "print(f\"Predicted rating for item {item_index} and user {user_index}: {prediction}\")\n",
        "\n",
        "# Evaluate model for users in test set\n",
        "user_indexes = list(range(num_users))\n",
        "groudTruths = test_indexes\n",
        "result = model_2.evaluate(user_indexes, groudTruths)\n",
        "print(f\"Accuracy for model: {result}\")\n"
      ]
    },
    {
      "cell_type": "code",
      "execution_count": 45,
      "metadata": {},
      "outputs": [
        {
          "data": {
            "image/png": "[encoded data removed]",
            "text/plain": [
              "<Figure size 1296x432 with 3 Axes>"
            ]
          },
          "metadata": {},
          "output_type": "display_data"
        },
        {
          "data": {
            "image/png": "[encoded data removed]",
            "text/plain": [
              "<Figure size 1296x432 with 3 Axes>"
            ]
          },
          "metadata": {},
          "output_type": "display_data"
        }
      ],
      "source": [
        "def report(model:MatrixFactorization,lf:int):\n",
        "    H,W,I = 1,3,1\n",
        "    sns.set_style(\"whitegrid\")\n",
        "    plt.rcParams[\"figure.figsize\"] = (18,6)\n",
        "\n",
        "    plt.subplot(H,W,I)\n",
        "    I+=1\n",
        "    plt.plot(list(range(1,len(model.Losses)+1)),model.Losses)\n",
        "    plt.title(\"Loss during the train | Eval: {0} | latent factor: {1}\".format(round(model.eval_value,8),lf))\n",
        "    plt.ylabel(\"loss\")\n",
        "    plt.xlabel(\"epoch\")\n",
        "    \n",
        "\n",
        "    plt.subplot(H,W,I)\n",
        "    I+=1\n",
        "    plt.plot(list(range(1,len(model.LRs)+1)),model.LRs)\n",
        "    plt.title(\"Learning Rate during the train\")\n",
        "    plt.ylabel(\"learing rate\")\n",
        "    plt.xlabel(\"epoch\")\n",
        "\n",
        "    \n",
        "\n",
        "    plt.subplot(H,W,I)\n",
        "    I+=1\n",
        "    plt.hist(model.eval_intersects)\n",
        "    plt.title(\"Histogram of top-{0} prediction\".format(model.topk))\n",
        "    plt.ylabel(\"freq.\")\n",
        "    plt.xlabel(\"intersect predictions\")\n",
        "\n",
        "    plt.tight_layout()\n",
        "    plt.show()\n",
        "    return\n",
        "\n",
        "\n",
        "report(model,32)\n",
        "report(model_2,64)"
      ]
    },
    {
      "cell_type": "code",
      "execution_count": 46,
      "metadata": {},
      "outputs": [
        {
          "data": {
            "text/plain": [
              "29858"
            ]
          },
          "execution_count": 46,
          "metadata": {},
          "output_type": "execute_result"
        }
      ],
      "source": []
    },
    {
      "cell_type": "code",
      "execution_count": null,
      "metadata": {},
      "outputs": [],
      "source": []
    }
  ],
  "metadata": {
    "colab": {
      "provenance": []
    },
    "kernelspec": {
      "display_name": "tensorflow_env",
      "language": "python",
      "name": "python3"
    },
    "language_info": {
      "codemirror_mode": {
        "name": "ipython",
        "version": 3
      },
      "file_extension": ".py",
      "mimetype": "text/x-python",
      "name": "python",
      "nbconvert_exporter": "python",
      "pygments_lexer": "ipython3",
      "version": "3.9.12"
    },
    "vscode": {
      "interpreter": {
        "hash": "ce6d309b248411180cac74827c3e3a782bdc72ca202897ccb8c0b7be54b71135"
      }
    }
  },
  "nbformat": 4,
  "nbformat_minor": 0
}
